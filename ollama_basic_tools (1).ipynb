{
 "cells": [
  {
   "cell_type": "code",
   "execution_count": 38,
   "id": "0a5d6147-8415-41e4-a518-f4a64f09ce34",
   "metadata": {},
   "outputs": [],
   "source": [
    "from langchain.llms import Ollama\n",
    "from langchain.chat_models import ChatOllama\n",
    "\n",
    "from langchain.prompts import ChatPromptTemplate, MessagesPlaceholder\n",
    "from langchain.schema.output_parser import StrOutputParser\n",
    "from langchain.tools import DuckDuckGoSearchRun, BaseTool\n",
    "\n",
    "from langchain.agents import initialize_agent, AgentType, tool, Tool, load_tools\n",
    "from langchain.tools.render import format_tool_to_openai_function\n",
    "\n",
    "from langchain.memory import ConversationBufferWindowMemory\n",
    "from langchain.prompts import PromptTemplate\n",
    "from langchain.chains import LLMMathChain"
   ]
  },
  {
   "cell_type": "code",
   "execution_count": 39,
   "id": "60011f2a-b1cc-4810-bb8f-60633480bafe",
   "metadata": {},
   "outputs": [],
   "source": [
    "llm = Ollama(model=\"llama2:13b\")"
   ]
  },
  {
   "cell_type": "code",
   "execution_count": 40,
   "id": "479c24cf-293b-4204-ba52-ca26977ac368",
   "metadata": {},
   "outputs": [],
   "source": [
    "class WordLengthTool(BaseTool):\n",
    "    name = \"Word Length Tool\"\n",
    "    description = \"Use this tool when you need to find the length of a given word\"\n",
    "\n",
    "    def _run(self, word: str):\n",
    "        return str(len(word))\n",
    "\n",
    "    def _arun(self, radius: int):\n",
    "        raise NotImplementedError(\"This tool does not support async\")"
   ]
  },
  {
   "cell_type": "code",
   "execution_count": 41,
   "id": "d63be3d0-01ac-43d7-9d13-68b0b8cc2de4",
   "metadata": {},
   "outputs": [],
   "source": [
    "tools = [WordLengthTool()]"
   ]
  },
  {
   "cell_type": "code",
   "execution_count": 64,
   "id": "1afea10f-2b90-4ba4-9ecd-0b2a029ec6a1",
   "metadata": {},
   "outputs": [],
   "source": [
    "memory = ConversationBufferWindowMemory(\n",
    "    memory_key=\"chat_history\", k=5, return_messages=True, output_key=\"output\"\n",
    ")"
   ]
  },
  {
   "cell_type": "code",
   "execution_count": 65,
   "id": "0ab6b908-8cf2-4950-9064-9b05ba954195",
   "metadata": {},
   "outputs": [],
   "source": [
    "agent = initialize_agent(\n",
    "    agent=\"chat-conversational-react-description\",\n",
    "    tools=tools,\n",
    "    llm=llm,\n",
    "    verbose=True,\n",
    "    early_stopping_method=\"generate\",\n",
    "    memory=memory,\n",
    "    # handle_parsing_errors=True,\n",
    "    #agent_kwargs={\"output_parser\": parser}\n",
    ")"
   ]
  },
  {
   "cell_type": "code",
   "execution_count": 66,
   "id": "4c8f54b0-2e73-4128-9d5f-e85b7cba31d5",
   "metadata": {},
   "outputs": [
    {
     "data": {
      "text/plain": [
       "ChatPromptTemplate(input_variables=['agent_scratchpad', 'chat_history', 'input'], input_types={'chat_history': typing.List[typing.Union[langchain.schema.messages.AIMessage, langchain.schema.messages.HumanMessage, langchain.schema.messages.ChatMessage, langchain.schema.messages.SystemMessage, langchain.schema.messages.FunctionMessage, langchain.schema.messages.ToolMessage]], 'agent_scratchpad': typing.List[typing.Union[langchain.schema.messages.AIMessage, langchain.schema.messages.HumanMessage, langchain.schema.messages.ChatMessage, langchain.schema.messages.SystemMessage, langchain.schema.messages.FunctionMessage, langchain.schema.messages.ToolMessage]]}, messages=[SystemMessagePromptTemplate(prompt=PromptTemplate(input_variables=[], template='Assistant is a large language model trained by OpenAI.\\n\\nAssistant is designed to be able to assist with a wide range of tasks, from answering simple questions to providing in-depth explanations and discussions on a wide range of topics. As a language model, Assistant is able to generate human-like text based on the input it receives, allowing it to engage in natural-sounding conversations and provide responses that are coherent and relevant to the topic at hand.\\n\\nAssistant is constantly learning and improving, and its capabilities are constantly evolving. It is able to process and understand large amounts of text, and can use this knowledge to provide accurate and informative responses to a wide range of questions. Additionally, Assistant is able to generate its own text based on the input it receives, allowing it to engage in discussions and provide explanations and descriptions on a wide range of topics.\\n\\nOverall, Assistant is a powerful system that can help with a wide range of tasks and provide valuable insights and information on a wide range of topics. Whether you need help with a specific question or just want to have a conversation about a particular topic, Assistant is here to assist.')), MessagesPlaceholder(variable_name='chat_history'), HumanMessagePromptTemplate(prompt=PromptTemplate(input_variables=['input'], template='TOOLS\\n------\\nAssistant can ask the user to use tools to look up information that may be helpful in answering the users original question. The tools the human can use are:\\n\\n> Word Length Tool: Use this tool when you need to find the length of a given word\\n\\nRESPONSE FORMAT INSTRUCTIONS\\n----------------------------\\n\\nWhen responding to me, please output a response in one of two formats:\\n\\n**Option 1:**\\nUse this if you want the human to use a tool.\\nMarkdown code snippet formatted in the following schema:\\n\\n```json\\n{{\\n    \"action\": string, \\\\\\\\ The action to take. Must be one of Word Length Tool\\n    \"action_input\": string \\\\\\\\ The input to the action\\n}}\\n```\\n\\n**Option #2:**\\nUse this if you want to respond directly to the human. Markdown code snippet formatted in the following schema:\\n\\n```json\\n{{\\n    \"action\": \"Final Answer\",\\n    \"action_input\": string \\\\\\\\ You should put what you want to return to use here\\n}}\\n```\\n\\nUSER\\'S INPUT\\n--------------------\\nHere is the user\\'s input (remember to respond with a markdown code snippet of a json blob with a single action, and NOTHING else):\\n\\n{input}')), MessagesPlaceholder(variable_name='agent_scratchpad')])"
      ]
     },
     "execution_count": 66,
     "metadata": {},
     "output_type": "execute_result"
    }
   ],
   "source": [
    "agent.agent.llm_chain.prompt"
   ]
  },
  {
   "cell_type": "code",
   "execution_count": 67,
   "id": "8fa1b227-c59f-4629-976a-ad959c3b3d7a",
   "metadata": {},
   "outputs": [
    {
     "name": "stdout",
     "output_type": "stream",
     "text": [
      "Assistant is a large language model trained by OpenAI.\n",
      "\n",
      "Assistant is designed to be able to assist with a wide range of tasks, from answering simple questions to providing in-depth explanations and discussions on a wide range of topics. As a language model, Assistant is able to generate human-like text based on the input it receives, allowing it to engage in natural-sounding conversations and provide responses that are coherent and relevant to the topic at hand.\n",
      "\n",
      "Assistant is constantly learning and improving, and its capabilities are constantly evolving. It is able to process and understand large amounts of text, and can use this knowledge to provide accurate and informative responses to a wide range of questions. Additionally, Assistant is able to generate its own text based on the input it receives, allowing it to engage in discussions and provide explanations and descriptions on a wide range of topics.\n",
      "\n",
      "Overall, Assistant is a powerful system that can help with a wide range of tasks and provide valuable insights and information on a wide range of topics. Whether you need help with a specific question or just want to have a conversation about a particular topic, Assistant is here to assist.\n"
     ]
    }
   ],
   "source": [
    "# View the current System Prompt Template\n",
    "print(agent.agent.llm_chain.prompt.messages[0].prompt.template)"
   ]
  },
  {
   "cell_type": "code",
   "execution_count": 68,
   "id": "d4164248-ade0-49ad-8cff-31b0e659e217",
   "metadata": {},
   "outputs": [
    {
     "name": "stdout",
     "output_type": "stream",
     "text": [
      "TOOLS\n",
      "------\n",
      "Assistant can ask the user to use tools to look up information that may be helpful in answering the users original question. The tools the human can use are:\n",
      "\n",
      "> Word Length Tool: Use this tool when you need to find the length of a given word\n",
      "\n",
      "RESPONSE FORMAT INSTRUCTIONS\n",
      "----------------------------\n",
      "\n",
      "When responding to me, please output a response in one of two formats:\n",
      "\n",
      "**Option 1:**\n",
      "Use this if you want the human to use a tool.\n",
      "Markdown code snippet formatted in the following schema:\n",
      "\n",
      "```json\n",
      "{{\n",
      "    \"action\": string, \\\\ The action to take. Must be one of Word Length Tool\n",
      "    \"action_input\": string \\\\ The input to the action\n",
      "}}\n",
      "```\n",
      "\n",
      "**Option #2:**\n",
      "Use this if you want to respond directly to the human. Markdown code snippet formatted in the following schema:\n",
      "\n",
      "```json\n",
      "{{\n",
      "    \"action\": \"Final Answer\",\n",
      "    \"action_input\": string \\\\ You should put what you want to return to use here\n",
      "}}\n",
      "```\n",
      "\n",
      "USER'S INPUT\n",
      "--------------------\n",
      "Here is the user's input (remember to respond with a markdown code snippet of a json blob with a single action, and NOTHING else):\n",
      "\n",
      "{input}\n"
     ]
    }
   ],
   "source": [
    "# View the current Human Message Prompt Template\n",
    "print(agent.agent.llm_chain.prompt.messages[2].prompt.template)"
   ]
  },
  {
   "cell_type": "code",
   "execution_count": 69,
   "id": "0449edb4-dc18-4894-8828-4795a354762e",
   "metadata": {},
   "outputs": [],
   "source": [
    "# Special llama2 tokens that it was trained on.\n",
    "B_INST, E_INST = \"[INST]\", \"[/INST]\" # Begin and end an instruction\n",
    "B_SYS, E_SYS = \"<<SYS>>\\n\", \"\\n<</SYS>>\\n\\n\" #Begin and end system prompt"
   ]
  },
  {
   "cell_type": "code",
   "execution_count": 70,
   "id": "b3885b2f-4d08-41b2-b7d0-b4954fb3a79e",
   "metadata": {},
   "outputs": [],
   "source": [
    "# Define a new system prompt\n",
    "sys_msg = B_SYS + \"\"\"You are Assistant. Assistant is a expert JSON builder designed to assist with a wide range of tasks.\n",
    "\n",
    "Assistant is able to respond to the User and use tools using JSON strings that contain \"action\" and \"action_input\" parameters.\n",
    "\n",
    "All of Assistant's communication is performed using this JSON format. The assistant NEVER outputs anything other than a json object with an action and action_input fields!\n",
    "\n",
    "Assistant can also use tools by responding to the user with tool use instructions in the same \"action\" and \"action_input\" JSON format. Tools available to Assistant are:\n",
    "\n",
    "- \"Word Length Tool\": Useful for when you need to get the length of a word.\n",
    "  - To use the Word Length Tool, Assistant should write like so:\n",
    "    ```json\n",
    "    {{\"action\": \"Word Length Tool\",\n",
    "      \"action_input\": \"elephant\"}}\n",
    "    ```\n",
    "\n",
    "Here is an example of a previous conversation between User and Assistant:\n",
    "---\n",
    "User: Hey how are you today?\n",
    "Assistant: ```json\n",
    "{{\"action\": \"Final Answer\",\n",
    " \"action_input\": \"I'm good thanks, how are you?\"}}\n",
    "```\n",
    "User: I'm great, what is the length of the word educate?\n",
    "Assistant: ```json\n",
    "{{\"action\": \"Word Length Tool\",\n",
    " \"action_input\": \"educate\"}}\n",
    "```\n",
    "User: 7\n",
    "Assistant: ```json\n",
    "{{\"action\": \"Final Answer\",\n",
    " \"action_input\": \"It looks like the answer is 7!\"}}\n",
    "```\n",
    "User: Thanks could you tell me what the length of \"turtle\" is?\n",
    "Assistant: ```json\n",
    "{{\"action\": \"Word Length Tool\",\n",
    " \"action_input\": \"turtle\"}}\n",
    "```\n",
    "User: 6\n",
    "Assistant: ```json\n",
    "{{\"action\": \"Final Answer\",\n",
    " \"action_input\": \"It looks like the answer is 6!\"}}\n",
    "```\n",
    "---\n",
    "Notice that after Assistant uses a tool, User will give the output of that tool. Then this output can be returned as a final answer.\n",
    "Assistant will only use the available tools and NEVER a tool not listed. If the User's question does not require the use of a tool, Assistant will use the \"Final Answer\" action to give a normal response.\n",
    "\"\"\" + E_SYS\n",
    "new_prompt = agent.agent.create_prompt(\n",
    "    system_message=sys_msg,\n",
    "    tools=tools\n",
    ")\n",
    "agent.agent.llm_chain.prompt = new_prompt"
   ]
  },
  {
   "cell_type": "code",
   "execution_count": 58,
   "id": "fe626469-59be-4fd3-9efa-50d36db49ba0",
   "metadata": {},
   "outputs": [],
   "source": [
    "# define a new user prompt template\n",
    "instruction = B_INST + \" Respond to the following in JSON with 'action' and 'action_input' values. Output NOTHING else!\" + E_INST\n",
    "human_msg = instruction + \"\\nUser: {input}\"\n",
    "\n",
    "agent.agent.llm_chain.prompt.messages[2].prompt.template = human_msg"
   ]
  },
  {
   "cell_type": "code",
   "execution_count": 72,
   "id": "328a181a-9d16-40f3-a55b-2cb77ab3c1eb",
   "metadata": {},
   "outputs": [
    {
     "name": "stdout",
     "output_type": "stream",
     "text": [
      "\n",
      "\n",
      "\u001b[1m> Entering new AgentExecutor chain...\u001b[0m\n",
      "\u001b[32;1m\u001b[1;3m\n",
      "{\n",
      "\"action\": \"Final Answer\",\n",
      "\"action_input\": \"I'm good, thanks for asking!\"\n",
      "}\u001b[0m\n",
      "\n",
      "\u001b[1m> Finished chain.\u001b[0m\n"
     ]
    },
    {
     "data": {
      "text/plain": [
       "{'input': 'Hello, how are you?',\n",
       " 'chat_history': [],\n",
       " 'output': \"I'm good, thanks for asking!\"}"
      ]
     },
     "execution_count": 72,
     "metadata": {},
     "output_type": "execute_result"
    }
   ],
   "source": [
    "agent(\"Hello, how are you?\")"
   ]
  },
  {
   "cell_type": "code",
   "execution_count": 73,
   "id": "5a050db8-ca0a-4e5c-b67d-3324e9e3a61b",
   "metadata": {},
   "outputs": [
    {
     "name": "stdout",
     "output_type": "stream",
     "text": [
      "\n",
      "\n",
      "\u001b[1m> Entering new AgentExecutor chain...\u001b[0m\n",
      "\u001b[32;1m\u001b[1;3m\n",
      "{\n",
      "\"action\": \"Word Length Tool\",\n",
      "\"action_input\": \"turtle\"}\u001b[0m\n",
      "Observation: \u001b[36;1m\u001b[1;3m6\u001b[0m\n",
      "Thought:\u001b[32;1m\u001b[1;3m{\n",
      "\"action\": \"Final Answer\",\n",
      "\"action_input\": \"It looks like the answer is 6!\"\n",
      "}\u001b[0m\n",
      "\n",
      "\u001b[1m> Finished chain.\u001b[0m\n"
     ]
    },
    {
     "data": {
      "text/plain": [
       "{'input': 'What is the length of the word turtle',\n",
       " 'chat_history': [HumanMessage(content='Hello, how are you?'),\n",
       "  AIMessage(content=\"I'm good, thanks for asking!\")],\n",
       " 'output': 'It looks like the answer is 6!'}"
      ]
     },
     "execution_count": 73,
     "metadata": {},
     "output_type": "execute_result"
    }
   ],
   "source": [
    "agent(\"What is the length of the word turtle\")"
   ]
  },
  {
   "cell_type": "code",
   "execution_count": 74,
   "id": "d80d3e8a-ecc8-43ae-8f62-3d7520742131",
   "metadata": {},
   "outputs": [
    {
     "name": "stdout",
     "output_type": "stream",
     "text": [
      "\n",
      "\n",
      "\u001b[1m> Entering new AgentExecutor chain...\u001b[0m\n",
      "\u001b[32;1m\u001b[1;3m\n",
      "Assistant: ```json\n",
      "{\"action\": \"Word Length Tool\",\n",
      " \"action_input\": \"educa\"}\n",
      "```\u001b[0m\n",
      "Observation: \u001b[36;1m\u001b[1;3m5\u001b[0m\n",
      "Thought:\u001b[32;1m\u001b[1;3m\n",
      "{\n",
      "\"action\": \"Final Answer\",\n",
      "\"action_input\": \"It looks like the answer is 5!\"\n",
      "}\u001b[0m\n",
      "\n",
      "\u001b[1m> Finished chain.\u001b[0m\n"
     ]
    },
    {
     "data": {
      "text/plain": [
       "{'input': \"What is the length of the word 'educa'?\",\n",
       " 'chat_history': [HumanMessage(content='Hello, how are you?'),\n",
       "  AIMessage(content=\"I'm good, thanks for asking!\"),\n",
       "  HumanMessage(content='What is the length of the word turtle'),\n",
       "  AIMessage(content='It looks like the answer is 6!')],\n",
       " 'output': 'It looks like the answer is 5!'}"
      ]
     },
     "execution_count": 74,
     "metadata": {},
     "output_type": "execute_result"
    }
   ],
   "source": [
    "agent(\"What is the length of the word 'educa'?\")"
   ]
  },
  {
   "cell_type": "code",
   "execution_count": 75,
   "id": "dc6152d7-db03-44b5-98c7-ce873165833c",
   "metadata": {},
   "outputs": [
    {
     "name": "stdout",
     "output_type": "stream",
     "text": [
      "\n",
      "\n",
      "\u001b[1m> Entering new AgentExecutor chain...\u001b[0m\n",
      "\u001b[32;1m\u001b[1;3m\n",
      "{\n",
      "\"action\": \"Final Answer\",\n",
      "\"action_input\": \"\"\"\n",
      "A land of maple syrup and mounties so brave,\n",
      "Canada's beauty is truly a sight to crave.\n",
      "From the Rocky Mountains to the Great Lakes,\n",
      "This country's splendor leaves all in awe.\n",
      "\"\"\"\n",
      "}\u001b[0m\n",
      "\n",
      "\u001b[1m> Finished chain.\u001b[0m\n"
     ]
    },
    {
     "data": {
      "text/plain": [
       "{'input': 'Can you write a short poem about canada?',\n",
       " 'chat_history': [HumanMessage(content='Hello, how are you?'),\n",
       "  AIMessage(content=\"I'm good, thanks for asking!\"),\n",
       "  HumanMessage(content='What is the length of the word turtle'),\n",
       "  AIMessage(content='It looks like the answer is 6!'),\n",
       "  HumanMessage(content=\"What is the length of the word 'educa'?\"),\n",
       "  AIMessage(content='It looks like the answer is 5!')],\n",
       " 'output': '\"\"\\nA land of maple syrup and mounties so brave,\\nCanada\\'s beauty is truly a sight to crave.\\nFrom the Rocky Mountains to the Great Lakes,\\nThis country\\'s splendor leaves all in awe.\\n\"\"'}"
      ]
     },
     "execution_count": 75,
     "metadata": {},
     "output_type": "execute_result"
    }
   ],
   "source": [
    "agent(\"Can you write a short poem about canada?\")"
   ]
  },
  {
   "cell_type": "code",
   "execution_count": 76,
   "id": "1fba0cf7-ca14-4435-891c-1ccdf9a4d5c7",
   "metadata": {},
   "outputs": [
    {
     "name": "stdout",
     "output_type": "stream",
     "text": [
      "\n",
      "\n",
      "\u001b[1m> Entering new AgentExecutor chain...\u001b[0m\n",
      "\u001b[32;1m\u001b[1;3m\n",
      "Assistant: ```json\n",
      "{\"action\": \"Word Length Tool\",\n",
      " \"action_input\": \"slkjf92j\"}\n",
      "```\u001b[0m\n",
      "Observation: \u001b[36;1m\u001b[1;3m8\u001b[0m\n",
      "Thought:\u001b[32;1m\u001b[1;3m{\n",
      "\"action\": \"Final Answer\",\n",
      "\"action_input\": \"8\"\n",
      "}\u001b[0m\n",
      "\n",
      "\u001b[1m> Finished chain.\u001b[0m\n"
     ]
    },
    {
     "data": {
      "text/plain": [
       "{'input': \"How many letters are in this string: 'slkjf92j'\",\n",
       " 'chat_history': [HumanMessage(content='Hello, how are you?'),\n",
       "  AIMessage(content=\"I'm good, thanks for asking!\"),\n",
       "  HumanMessage(content='What is the length of the word turtle'),\n",
       "  AIMessage(content='It looks like the answer is 6!'),\n",
       "  HumanMessage(content=\"What is the length of the word 'educa'?\"),\n",
       "  AIMessage(content='It looks like the answer is 5!'),\n",
       "  HumanMessage(content='Can you write a short poem about canada?'),\n",
       "  AIMessage(content='\"\"\\nA land of maple syrup and mounties so brave,\\nCanada\\'s beauty is truly a sight to crave.\\nFrom the Rocky Mountains to the Great Lakes,\\nThis country\\'s splendor leaves all in awe.\\n\"\"')],\n",
       " 'output': '8'}"
      ]
     },
     "execution_count": 76,
     "metadata": {},
     "output_type": "execute_result"
    }
   ],
   "source": [
    "agent(\"How many letters are in this string: 'slkjf92j'\")"
   ]
  },
  {
   "cell_type": "code",
   "execution_count": 77,
   "id": "7e763d3e-3248-4511-a88b-8a8e967f0dbd",
   "metadata": {},
   "outputs": [
    {
     "data": {
      "text/plain": [
       "'\\nThe string \"slkjf92j\" contains 9 letters.'"
      ]
     },
     "execution_count": 77,
     "metadata": {},
     "output_type": "execute_result"
    }
   ],
   "source": [
    "llm(\"How many letters are in this string: 'slkjf92j'\")"
   ]
  },
  {
   "cell_type": "code",
   "execution_count": null,
   "id": "8cfd15bb-8600-4d57-9dc1-67ed35a09f23",
   "metadata": {},
   "outputs": [],
   "source": []
  }
 ],
 "metadata": {
  "kernelspec": {
   "display_name": "Python 3 (ipykernel)",
   "language": "python",
   "name": "python3"
  },
  "language_info": {
   "codemirror_mode": {
    "name": "ipython",
    "version": 3
   },
   "file_extension": ".py",
   "mimetype": "text/x-python",
   "name": "python",
   "nbconvert_exporter": "python",
   "pygments_lexer": "ipython3",
   "version": "3.9.6"
  }
 },
 "nbformat": 4,
 "nbformat_minor": 5
}
